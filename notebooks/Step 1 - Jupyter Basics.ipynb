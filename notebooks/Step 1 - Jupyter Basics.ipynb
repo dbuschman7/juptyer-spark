{
 "cells": [
  {
   "cell_type": "code",
   "execution_count": 8,
   "metadata": {},
   "outputs": [
    {
     "name": "stdout",
     "output_type": "stream",
     "text": [
      "2\n"
     ]
    }
   ],
   "source": [
    "// basic Scala usage\n",
    "println(1 + 1)"
   ]
  },
  {
   "cell_type": "code",
   "execution_count": 3,
   "metadata": {},
   "outputs": [
    {
     "data": {
      "text/plain": [
       "foo: String = bar\n"
      ]
     },
     "execution_count": 3,
     "metadata": {},
     "output_type": "execute_result"
    }
   ],
   "source": [
    "// create a value for later use\n",
    "val foo = \"bar\""
   ]
  },
  {
   "cell_type": "code",
   "execution_count": 4,
   "metadata": {},
   "outputs": [
    {
     "name": "stdout",
     "output_type": "stream",
     "text": [
      "printing bar\n"
     ]
    }
   ],
   "source": [
    "// then use that value\n",
    "println(s\"printing $foo\")"
   ]
  },
  {
   "cell_type": "code",
   "execution_count": 5,
   "metadata": {},
   "outputs": [
    {
     "data": {
      "text/plain": [
       "list: scala.collection.immutable.Range.Inclusive = Range(1, 2, 3, 4, 5, 6, 7, 8, 9, 10, 11, 12, 13, 14, 15, 16, 17, 18, 19, 20, 21, 22, 23, 24, 25, 26, 27, 28, 29, 30, 31, 32, 33, 34, 35, 36, 37, 38, 39, 40, 41, 42, 43, 44, 45, 46, 47, 48, 49, 50, 51, 52, 53, 54, 55, 56, 57, 58, 59, 60, 61, 62, 63, 64, 65, 66, 67, 68, 69, 70, 71, 72, 73, 74, 75, 76, 77, 78, 79, 80, 81, 82, 83, 84, 85, 86, 87, 88, 89, 90, 91, 92, 93, 94, 95, 96, 97, 98, 99, 100)\n"
      ]
     },
     "execution_count": 5,
     "metadata": {},
     "output_type": "execute_result"
    }
   ],
   "source": [
    "val list = (1 to 100)"
   ]
  },
  {
   "cell_type": "code",
   "execution_count": 6,
   "metadata": {},
   "outputs": [
    {
     "name": "stdout",
     "output_type": "stream",
     "text": [
      "5 10 15 20 25 30 35 40 45 50 55 60 65 70 75 80 85 90 95 100 "
     ]
    },
    {
     "data": {
      "text/plain": [
       "res2: scala.collection.immutable.IndexedSeq[Unit] = Vector((), (), (), (), (), (), (), (), (), (), (), (), (), (), (), (), (), (), (), ())\n"
      ]
     },
     "execution_count": 6,
     "metadata": {},
     "output_type": "execute_result"
    }
   ],
   "source": [
    "// dump values, but use foreach\n",
    "list.filter(_ % 5 == 0).map(i => print(i + \" \") )"
   ]
  },
  {
   "cell_type": "code",
   "execution_count": 7,
   "metadata": {},
   "outputs": [
    {
     "data": {
      "text/plain": [
       "res3: java.io.PrintWriter = $anon$1@34368ffc\n"
      ]
     },
     "execution_count": 7,
     "metadata": {},
     "output_type": "execute_result"
    }
   ],
   "source": [
    "// save a file \n",
    "new java.io.PrintWriter(\"list.of.numbers\") { list.map(println); close }"
   ]
  },
  {
   "cell_type": "code",
   "execution_count": 14,
   "metadata": {},
   "outputs": [
    {
     "data": {
      "text/plain": [
       "characters: Seq[(String, String)] = List((name,friends), (Yoda,Obi-Wan Kenobi), (Anakin Skywalker,Sheev Palpatine), (Luke Skywalker,Han Solo, Leia Skywalker), (Leia Skywalker,Obi-Wan Kenobi), (Sheev Palpatine,Anakin Skywalker), (Han Solo,Leia Skywalker, Luke Skywalker, Obi-Wan Kenobi, Chewbacca), (Obi-Wan Kenobi,Yoda, Qui-Gon Jinn), (R2-D2,C-3PO), (C-3PO,R2-D2), (Darth Maul,Sheev Palpatine), (Chewbacca,Han Solo), (Lando Calrissian,Han Solo), (Jabba,Boba Fett))\n",
       "res10: java.io.PrintWriter = $anon$1@70667ea5\n"
      ]
     },
     "execution_count": 14,
     "metadata": {},
     "output_type": "execute_result"
    }
   ],
   "source": [
    "// data for future work\n",
    "val characters = Seq(\n",
    "             (\"name\",             \"friends\"),\n",
    "             (\"Yoda\",             \"Obi-Wan Kenobi\"),\n",
    "             (\"Anakin Skywalker\", \"Sheev Palpatine\"),\n",
    "             (\"Luke Skywalker\",   \"Han Solo, Leia Skywalker\"),\n",
    "             (\"Leia Skywalker\",   \"Obi-Wan Kenobi\"),\n",
    "             (\"Sheev Palpatine\",  \"Anakin Skywalker\"),\n",
    "             (\"Han Solo\",         \"Leia Skywalker, Luke Skywalker, Obi-Wan Kenobi, Chewbacca\"),\n",
    "             (\"Obi-Wan Kenobi\",   \"Yoda, Qui-Gon Jinn\"),\n",
    "             (\"R2-D2\",            \"C-3PO\"),\n",
    "             (\"C-3PO\",            \"R2-D2\"),\n",
    "             (\"Darth Maul\",       \"Sheev Palpatine\"),\n",
    "             (\"Chewbacca\",        \"Han Solo\"),\n",
    "             (\"Lando Calrissian\", \"Han Solo\"),\n",
    "             (\"Jabba\",            \"Boba Fett\")\n",
    "            )\n",
    "// save it tot a file \n",
    "new java.io.PrintWriter(\"star.wars.friends.csv\") { f => characters.map{ case(ch, friends) => f.println(s\"$ch|$friends\") }; close }"
   ]
  },
  {
   "cell_type": "code",
   "execution_count": null,
   "metadata": {
    "collapsed": true
   },
   "outputs": [],
   "source": []
  }
 ],
 "metadata": {
  "kernelspec": {
   "display_name": "spylon-kernel",
   "language": "scala",
   "name": "spylon-kernel"
  },
  "language_info": {
   "codemirror_mode": "text/x-scala",
   "file_extension": ".scala",
   "help_links": [
    {
     "text": "MetaKernel Magics",
     "url": "https://github.com/calysto/metakernel/blob/master/metakernel/magics/README.md"
    }
   ],
   "mimetype": "text/x-scala",
   "name": "scala",
   "pygments_lexer": "scala",
   "version": "0.4.0"
  }
 },
 "nbformat": 4,
 "nbformat_minor": 2
}
