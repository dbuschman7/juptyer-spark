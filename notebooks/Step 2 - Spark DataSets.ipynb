{
 "cells": [
  {
   "cell_type": "code",
   "execution_count": 1,
   "metadata": {},
   "outputs": [
    {
     "data": {
      "text/plain": [
       "Intitializing Scala interpreter ..."
      ]
     },
     "metadata": {},
     "output_type": "display_data"
    },
    {
     "data": {
      "text/plain": [
       "Spark Web UI available at http://172.17.0.2:4041\n",
       "SparkContext available as 'sc' (version = 2.2.0, master = local[*], app id = local-1503805246563)\n",
       "SparkSession available as 'spark'\n"
      ]
     },
     "metadata": {},
     "output_type": "display_data"
    }
   ],
   "source": [
    "// load up the spark context\n",
    "/*\n",
    "Spark Web UI available at http://172.17.0.2:4041\n",
    "SparkContext available as 'sc' (version = 2.2.0, master = local[*], app id = local-1503805246563)\n",
    "SparkSession available as 'spark'\n",
    "*/"
   ]
  },
  {
   "cell_type": "code",
   "execution_count": 39,
   "metadata": {},
   "outputs": [
    {
     "data": {
      "text/plain": [
       "import org.apache.spark.sql.{Dataset, DataFrame, SparkSession}\n",
       "import org.apache.spark.sql.functions._\n",
       "import org.apache.spark.sql._\n",
       "defined class Friends\n",
       "defined class Character\n"
      ]
     },
     "execution_count": 39,
     "metadata": {},
     "output_type": "execute_result"
    }
   ],
   "source": [
    "// Load some data into a dataset \n",
    "import org.apache.spark.sql.{ Dataset, DataFrame, SparkSession }\n",
    "import org.apache.spark.sql.functions._\n",
    "import org.apache.spark.sql._\n",
    "\n",
    "case class Friends(name: String, friends: String) { \n",
    "    def toDelimitedString:String = s\"$name|$friends\"\n",
    "}\n",
    "\n",
    "case class Character(name: String, \n",
    "                     height: Integer, \n",
    "                     weight: Option[Integer], \n",
    "                     eyecolor: Option[String], \n",
    "                     haircolor: Option[String], \n",
    "                     jedi: String,\n",
    "                     species: String) {\n",
    "    def toDelimitedString:String = Seq(\n",
    "        name, \n",
    "        height.toString,\n",
    "        weight.map(_.toString).getOrElse(\"\"), \n",
    "        eyecolor.getOrElse(\"\"),\n",
    "        haircolor.getOrElse(\"\"),\n",
    "        jedi, \n",
    "        species\n",
    "    ).mkString(\"|\")\n",
    "}\n",
    "\n",
    "// make sure this scope is visable everywhere\n",
    "org.apache.spark.sql.catalyst.encoders.OuterScopes.addOuterScope(this)"
   ]
  },
  {
   "cell_type": "code",
   "execution_count": 9,
   "metadata": {},
   "outputs": [
    {
     "name": "stdout",
     "output_type": "stream",
     "text": [
      "+----------------+--------------------+\n",
      "|            name|             friends|\n",
      "+----------------+--------------------+\n",
      "|            Yoda|      Obi-Wan Kenobi|\n",
      "|Anakin Skywalker|     Sheev Palpatine|\n",
      "|  Luke Skywalker|Han Solo, Leia Sk...|\n",
      "|  Leia Skywalker|      Obi-Wan Kenobi|\n",
      "| Sheev Palpatine|    Anakin Skywalker|\n",
      "|        Han Solo|Leia Skywalker, L...|\n",
      "|  Obi-Wan Kenobi|  Yoda, Qui-Gon Jinn|\n",
      "|           R2-D2|               C-3PO|\n",
      "|           C-3PO|               R2-D2|\n",
      "|      Darth Maul|     Sheev Palpatine|\n",
      "|       Chewbacca|            Han Solo|\n",
      "|Lando Calrissian|            Han Solo|\n",
      "|           Jabba|           Boba Fett|\n",
      "+----------------+--------------------+\n",
      "\n"
     ]
    },
    {
     "data": {
      "text/plain": [
       "characterFriends: org.apache.spark.sql.Dataset[Friends] = [name: string, friends: string]\n"
      ]
     },
     "execution_count": 9,
     "metadata": {},
     "output_type": "execute_result"
    }
   ],
   "source": [
    "val friends: Dataset[Friends] = //\n",
    " spark\n",
    "  .read\n",
    "  .option(\"header\", \"true\")\n",
    "  .option(\"delimiter\", \"|\")\n",
    "  .option(\"inferSchema\", \"true\")\n",
    "  .csv(\"star.wars.friends.csv\")\n",
    "  .as[Friends]\n",
    "\n",
    "friends.show()"
   ]
  },
  {
   "cell_type": "code",
   "execution_count": 14,
   "metadata": {},
   "outputs": [
    {
     "name": "stdout",
     "output_type": "stream",
     "text": [
      "+----------------+------+------+--------+---------+-------+-----------+\n",
      "|            name|height|weight|eyecolor|haircolor|   jedi|    species|\n",
      "+----------------+------+------+--------+---------+-------+-----------+\n",
      "|Anakin Skywalker|   188|    84|    blue|    blond|   jedi|      human|\n",
      "|   Padme Amidala|   165|    45|   brown|    brown|no_jedi|      human|\n",
      "|  Luke Skywalker|   172|    77|    blue|    blond|   jedi|      human|\n",
      "|  Leia Skywalker|   150|    49|   brown|    brown|no_jedi|      human|\n",
      "|    Qui-Gon Jinn|   193|    89|    blue|    brown|   jedi|      human|\n",
      "|  Obi-Wan Kenobi|   182|    77|bluegray|   auburn|   jedi|      human|\n",
      "|        Han Solo|   180|    80|   brown|    brown|no_jedi|      human|\n",
      "| Sheev Palpatine|   173|    75|    blue|      red|no_jedi|      human|\n",
      "|           R2-D2|    96|    32|    null|     null|no_jedi|      droid|\n",
      "|           C-3PO|   167|    75|    null|     null|no_jedi|      droid|\n",
      "|            Yoda|    66|    17|   brown|    brown|   jedi|       yoda|\n",
      "|      Darth Maul|   175|    80|  yellow|     none|no_jedi|dathomirian|\n",
      "|           Dooku|   193|    86|   brown|    brown|   jedi|      human|\n",
      "|       Chewbacca|   228|   112|    blue|    brown|no_jedi|    wookiee|\n",
      "|           Jabba|   390|  null|  yellow|     none|no_jedi|       hutt|\n",
      "|Lando Calrissian|   178|    79|   brown|    blank|no_jedi|      human|\n",
      "|       Boba Fett|   183|    78|   brown|    black|no_jedi|      human|\n",
      "|      Jango Fett|   183|    79|   brown|    black|no_jedi|      human|\n",
      "+----------------+------+------+--------+---------+-------+-----------+\n",
      "\n"
     ]
    },
    {
     "data": {
      "text/plain": [
       "characters: org.apache.spark.sql.Dataset[Character] = [name: string, height: int ... 5 more fields]\n"
      ]
     },
     "execution_count": 14,
     "metadata": {},
     "output_type": "execute_result"
    }
   ],
   "source": [
    "// Load character data into DataSet \n",
    "val characters: Dataset[Character] = //\n",
    " spark\n",
    "  .read\n",
    "  .option(\"header\", \"true\")\n",
    "  .option(\"delimiter\", \";\")\n",
    "  .option(\"inferSchema\", \"true\")\n",
    "  .csv(\"star.wars.characters.csv\")\n",
    "  .as[Character]\n",
    "\n",
    "characters.show()"
   ]
  },
  {
   "cell_type": "code",
   "execution_count": 47,
   "metadata": {},
   "outputs": [
    {
     "ename": "<console>",
     "evalue": "54: error: overloaded method value filter with alternatives:",
     "output_type": "error",
     "traceback": [
      "<console>:54: error: overloaded method value filter with alternatives:",
      "  (func: org.apache.spark.api.java.function.FilterFunction[Character(in class $iw)])org.apache.spark.sql.Dataset[Character(in class $iw)] <and>",
      "  (func: Character(in class $iw) => Boolean)org.apache.spark.sql.Dataset[Character(in class $iw)] <and>",
      "  (conditionExpr: String)org.apache.spark.sql.Dataset[Character(in class $iw)] <and>",
      "  (condition: org.apache.spark.sql.Column)org.apache.spark.sql.Dataset[Character(in class $iw)]",
      " cannot be applied to (Character(in class $iw) => Boolean)",
      "       val brownHair:Dataset[Character] = characters.filter{ x: Character => x.haircolor == \"brown\"}",
      "                                                     ^",
      "<console>:58: error: not found: value df",
      "       df.printSchema()",
      "       ^",
      "<console>:59: error: <$anon: java.io.PrintWriter> cannot be instantiated because it does not conform to its self-type java.io.PrintWriter with Character",
      "       new java.io.PrintWriter(\"star.wars.brown.hair.csv\") { s:Character => brownHair.map(_.toDelimitedString); close }",
      "       ^",
      "<console>:61: error: missing parameter type",
      "       val blueEyes:Dataset[Character] = characters.filter{ x => x.eyecolor == \"blue\"}",
      "                                                            ^",
      ""
     ]
    }
   ],
   "source": [
    "val brownHair:Dataset[Character] = characters.filter{ x: Character => x.haircolor == \"brown\"}\n",
    "// brownHair.show()\n",
    "// println(\"Characters with brown hair -\" + brownHair.count)\n",
    "// save a file \n",
    "new java.io.PrintWriter(\"star.wars.brown.hair.csv\") { s:Character => brownHair.map(_.toDelimitedString); close }\n",
    "\n",
    "val blueEyes:Dataset[Character] = characters.filter{ x => x.eyecolor == \"blue\"}\n",
    "// blueEyes.show()\n",
    "// println(\"Characters with brown hair -\" + blueEyes.count)\n",
    "new java.io.PrintWriter(\"star.wars.brown.hair.csv\") { s => blueEyes.map(_.toDelimitedString); close }\n"
   ]
  },
  {
   "cell_type": "code",
   "execution_count": 45,
   "metadata": {},
   "outputs": [
    {
     "ename": "<console>",
     "evalue": "53: error: not found: value friends",
     "output_type": "error",
     "traceback": [
      "<console>:53: error: not found: value friends",
      "            .join(friends, friends(\"name\") === characters(\"name\"))",
      "                  ^",
      "<console>:53: error: not found: value friends",
      "            .join(friends, friends(\"name\") === characters(\"name\"))",
      "                           ^",
      ""
     ]
    }
   ],
   "source": [
    "//\n",
    "characters.filter(\"haircolor = brown\")\n",
    "     .join(friends, friends(\"name\") === characters(\"name\"))\n",
    "     .groupBy(\"eyecolor\", \"weight\")\n",
    "     .agg(avg(\"eyecolor\"), max(\"weight\"))"
   ]
  },
  {
   "cell_type": "code",
   "execution_count": null,
   "metadata": {
    "collapsed": true
   },
   "outputs": [],
   "source": []
  }
 ],
 "metadata": {
  "kernelspec": {
   "display_name": "spylon-kernel",
   "language": "scala",
   "name": "spylon-kernel"
  },
  "language_info": {
   "codemirror_mode": "text/x-scala",
   "file_extension": ".scala",
   "help_links": [
    {
     "text": "MetaKernel Magics",
     "url": "https://github.com/calysto/metakernel/blob/master/metakernel/magics/README.md"
    }
   ],
   "mimetype": "text/x-scala",
   "name": "scala",
   "pygments_lexer": "scala",
   "version": "0.4.0"
  }
 },
 "nbformat": 4,
 "nbformat_minor": 2
}
